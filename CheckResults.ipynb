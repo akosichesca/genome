{
 "cells": [
  {
   "cell_type": "code",
   "execution_count": 1,
   "metadata": {},
   "outputs": [
    {
     "name": "stdout",
     "output_type": "stream",
     "text": [
      "['@NC_000913.3_2014123_2014531_0_1_0_0_1:0:0_3:0:0_0', '@NC_000913.3_2014123_2014531_0_1_0_0_1:0:0_3:0:0_0', '@NC_000913.3_2879042_2878567_1_0_0_0_1:0:0_1:0:0_1', '@NC_000913.3_2879042_2878567_1_0_0_0_1:0:0_1:0:0_1', '@rand_0_0_0_0_1_1_0:0:0_0:0:0_2', '@rand_0_0_0_0_1_1_0:0:0_0:0:0_2', '@NC_000913.3_2845538_2845147_1_0_0_0_0:0:0_3:0:0_3', '@NC_000913.3_2845538_2845147_1_0_0_0_0:0:0_3:0:0_3', '@rand_0_0_0_0_1_1_0:0:0_0:0:0_4', '@rand_0_0_0_0_1_1_0:0:0_0:0:0_4']\n"
     ]
    }
   ],
   "source": [
    "# Read the reads on a FastQ file\n",
    "def readfile(fname):\n",
    "    readsg = ''\n",
    "    with open(fname) as fp:\n",
    "        line = fp.readline()\n",
    "        while line:\n",
    "            readsg = readsg + line\n",
    "            line = fp.readline()\n",
    "            line = fp.readline()\n",
    "            line = fp.readline()\n",
    "            line = fp.readline()\n",
    "    return readsg\n",
    "\n",
    "fname = \"ecoli.bfast.fastq\"\n",
    "glist = readfile(fname)\n",
    "glist = glist.split()\n",
    "print(glist[0:10])"
   ]
  },
  {
   "cell_type": "code",
   "execution_count": 6,
   "metadata": {},
   "outputs": [
    {
     "name": "stdout",
     "output_type": "stream",
     "text": [
      "['@NC', '000913.3', '2014123', '2014531', '0', '1', '0', '0', '1:0:0', '3:0:0', '0']\n",
      "('2014123', '0')\n"
     ]
    },
    {
     "ename": "NameError",
     "evalue": "name 'math' is not defined",
     "output_type": "error",
     "traceback": [
      "\u001b[0;31m---------------------------------------------------------------------------\u001b[0m",
      "\u001b[0;31mNameError\u001b[0m                                 Traceback (most recent call last)",
      "\u001b[0;32m<ipython-input-6-f25e11c0b628>\u001b[0m in \u001b[0;36m<module>\u001b[0;34m()\u001b[0m\n\u001b[1;32m      9\u001b[0m \u001b[0;32mfor\u001b[0m \u001b[0mxlist\u001b[0m \u001b[0;32min\u001b[0m \u001b[0mglist\u001b[0m\u001b[0;34m:\u001b[0m\u001b[0;34m\u001b[0m\u001b[0;34m\u001b[0m\u001b[0m\n\u001b[1;32m     10\u001b[0m     \u001b[0mylist\u001b[0m \u001b[0;34m=\u001b[0m \u001b[0mxlist\u001b[0m\u001b[0;34m.\u001b[0m\u001b[0msplit\u001b[0m\u001b[0;34m(\u001b[0m\u001b[0;34m'_'\u001b[0m\u001b[0;34m)\u001b[0m\u001b[0;34m\u001b[0m\u001b[0;34m\u001b[0m\u001b[0m\n\u001b[0;32m---> 11\u001b[0;31m     \u001b[0mstart\u001b[0m\u001b[0;34m.\u001b[0m\u001b[0mappend\u001b[0m\u001b[0;34m(\u001b[0m\u001b[0mmath\u001b[0m\u001b[0;34m.\u001b[0m\u001b[0mfloor\u001b[0m\u001b[0;34m(\u001b[0m\u001b[0mfloat\u001b[0m\u001b[0;34m(\u001b[0m\u001b[0mylist\u001b[0m\u001b[0;34m[\u001b[0m\u001b[0;36m2\u001b[0m\u001b[0;34m]\u001b[0m\u001b[0;34m)\u001b[0m\u001b[0;34m/\u001b[0m\u001b[0;36m1024\u001b[0m\u001b[0;34m)\u001b[0m\u001b[0;34m)\u001b[0m\u001b[0;34m\u001b[0m\u001b[0;34m\u001b[0m\u001b[0m\n\u001b[0m\u001b[1;32m     12\u001b[0m     \u001b[0mend\u001b[0m\u001b[0;34m.\u001b[0m\u001b[0mappend\u001b[0m\u001b[0;34m(\u001b[0m\u001b[0mmath\u001b[0m\u001b[0;34m.\u001b[0m\u001b[0mfloor\u001b[0m\u001b[0;34m(\u001b[0m\u001b[0mfloat\u001b[0m\u001b[0;34m(\u001b[0m\u001b[0mylist\u001b[0m\u001b[0;34m[\u001b[0m\u001b[0;36m3\u001b[0m\u001b[0;34m]\u001b[0m\u001b[0;34m)\u001b[0m\u001b[0;34m/\u001b[0m\u001b[0;36m1024\u001b[0m\u001b[0;34m)\u001b[0m\u001b[0;34m)\u001b[0m\u001b[0;34m\u001b[0m\u001b[0;34m\u001b[0m\u001b[0m\n\u001b[1;32m     13\u001b[0m     \u001b[0midx\u001b[0m\u001b[0;34m.\u001b[0m\u001b[0mappend\u001b[0m\u001b[0;34m(\u001b[0m\u001b[0mint\u001b[0m\u001b[0;34m(\u001b[0m\u001b[0mylist\u001b[0m\u001b[0;34m[\u001b[0m\u001b[0;34m-\u001b[0m\u001b[0;36m1\u001b[0m\u001b[0;34m]\u001b[0m\u001b[0;34m,\u001b[0m \u001b[0;36m16\u001b[0m\u001b[0;34m)\u001b[0m\u001b[0;34m)\u001b[0m\u001b[0;34m\u001b[0m\u001b[0;34m\u001b[0m\u001b[0m\n",
      "\u001b[0;31mNameError\u001b[0m: name 'math' is not defined"
     ]
    }
   ],
   "source": [
    "x = glist[0]\n",
    "y = x.split('_')\n",
    "print(y)\n",
    "print(y[2],y[-1])\n",
    "\n",
    "start = []\n",
    "end = []\n",
    "idx = []\n",
    "for xlist in glist:\n",
    "    ylist = xlist.split('_')\n",
    "    start.append(int(ylist[2]))\n",
    "    end.append(int(ylist[3]))\n",
    "    idx.append(int(ylist[-1], 16))\n",
    "    \n",
    "print(start[0:10])"
   ]
  },
  {
   "cell_type": "code",
   "execution_count": null,
   "metadata": {},
   "outputs": [],
   "source": [
    "right = 0\n",
    "wrong = 0\n",
    "\n",
    "for j in range(0,50):\n",
    "    fname_best = \"results_v4/ecoli\" + str(j) + \".pos.best\"\n",
    "    print(fname_best)\n",
    "    res = ''\n",
    "    with open(fname_best) as fp:\n",
    "        line = fp.readline()\n",
    "        while line:\n",
    "            res = res + line\n",
    "            line = fp.readline()\n",
    "\n",
    "    results = res.split()\n",
    "\n",
    "    idx2 = []\n",
    "    pos2 = []\n",
    "    for l in results:\n",
    "        x = l.split(',')\n",
    "        idx2.append(int(x[0]))\n",
    "        pos2.append(int(x[1].split('.')[0]))\n",
    "\n",
    "    #print(start[0:10])\n",
    "\n",
    "\n",
    "    for i in range(0,len(idx2)):\n",
    "        if start[idx2[i]] != 0 or end[idx2[i]] != 0:\n",
    "            if start[idx2[i]]-100 < pos2[i] and start[idx2[i]]+100 > pos2[i]:\n",
    "                right = right + 1\n",
    "            elif end[idx2[i]]-100 < pos2[i] and end[idx2[i]]+100 > pos2[i]:\n",
    "                right = right + 1\n",
    "            else:\n",
    "                wrong = wrong + 1\n",
    "                print(idx2[i],start[idx2[i]],end[idx2[i]], pos2[i])\n",
    "\n",
    "print(right, wrong)\n",
    "print(float(right)*100/float(right+wrong))"
   ]
  },
  {
   "cell_type": "code",
   "execution_count": null,
   "metadata": {},
   "outputs": [],
   "source": []
  }
 ],
 "metadata": {
  "kernelspec": {
   "display_name": "Python 2",
   "language": "python",
   "name": "python2"
  },
  "language_info": {
   "codemirror_mode": {
    "name": "ipython",
    "version": 2
   },
   "file_extension": ".py",
   "mimetype": "text/x-python",
   "name": "python",
   "nbconvert_exporter": "python",
   "pygments_lexer": "ipython2",
   "version": "2.7.15+"
  }
 },
 "nbformat": 4,
 "nbformat_minor": 2
}
